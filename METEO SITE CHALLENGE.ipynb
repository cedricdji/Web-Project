{
 "cells": [
  {
   "cell_type": "markdown",
   "id": "87fb1cd5",
   "metadata": {},
   "source": [
    "<a href=\"#\"><img src = \"https://www.data-for-development.com/images/Logo-DATA-For-Developpement.png\" width = 250, align = \"center\"></a>"
   ]
  },
  {
   "cell_type": "markdown",
   "id": "de4d762f",
   "metadata": {},
   "source": [
    "<center><h1> Web Scraping Weather : Abidjan Côte d'Ivoire </h1> </center>"
   ]
  },
  {
   "cell_type": "markdown",
   "id": "e00fca3f",
   "metadata": {},
   "source": [
    "### Introduction\n"
   ]
  },
  {
   "cell_type": "markdown",
   "id": "58a7d93a",
   "metadata": {},
   "source": [
    "##### English\n",
    "\n",
    "We need to scrap a meteo website for My birth town Abidjan for a week and record it a Panda object.\n",
    "\n",
    "##### French\n",
    "\n",
    "Nous devons mettre au rebut un site Web météo pour Ma ville natale Abidjan pendant une semaine et l'enregistrer comme objet Panda.\n"
   ]
  },
  {
   "cell_type": "code",
   "execution_count": 156,
   "id": "f200d9af",
   "metadata": {},
   "outputs": [],
   "source": [
    "#import librairie\n",
    "#importons les librairies\n",
    "\n",
    "from requests import get\n",
    "from bs4 import BeautifulSoup\n",
    "import pandas as pd\n",
    "\n",
    "\n",
    "#load url\n",
    "#chargez l'url\n",
    "\n",
    "url = get(\"https://www.tameteo.com/meteo_Abidjan-Afrique-Cote+dIvoire-Abidjan-DIAP-1-8908.html\")\n",
    "content = url.content\n",
    "parser = BeautifulSoup(content,\"html.parser\")"
   ]
  },
  {
   "cell_type": "markdown",
   "id": "10f0d080",
   "metadata": {},
   "source": [
    "<li>Extraire les dates, la description, la temperature</li>"
   ]
  },
  {
   "cell_type": "code",
   "execution_count": 157,
   "id": "8d32ce90",
   "metadata": {
    "scrolled": true
   },
   "outputs": [
    {
     "name": "stdout",
     "output_type": "stream",
     "text": [
      "Date:  ['Aujourd´hui 26 Avr', 'Demain 27 Avr', 'Jeudi 28 Avr', 'Vendredi 29 Avr', 'Samedi 30 Avr', 'Dimanche 1 Mai', 'Lundi 2 Mai']\n"
     ]
    }
   ],
   "source": [
    "# la period\n",
    "# period\n",
    "periods = [item.get_text(separator=\" \") for item in parser.select(\".cuando\")]\n",
    "print('Date: ', periods)"
   ]
  },
  {
   "cell_type": "code",
   "execution_count": 158,
   "id": "be60ff72",
   "metadata": {
    "scrolled": true
   },
   "outputs": [
    {
     "name": "stdout",
     "output_type": "stream",
     "text": [
      "Description of days:  ['Ciel nuageux avec pluies faibles', 'Ciel nuageux avec averses orageuses', 'Ciel nuageux avec averses orageuses', 'Ciel nuageux avec pluies modérées', 'Intervalles nuageux avec pluies faibles', 'Ciel nuageux avec pluies faibles', 'Intervalles nuageux avec pluies faibles']\n"
     ]
    }
   ],
   "source": [
    "# description\n",
    "desc = [d['alt'] for d in parser.select(\".prediccion img\")]\n",
    "print(\"Description of days: \",desc)"
   ]
  },
  {
   "cell_type": "code",
   "execution_count": 159,
   "id": "d30209bf",
   "metadata": {},
   "outputs": [
    {
     "name": "stdout",
     "output_type": "stream",
     "text": [
      "Temp Min :  ['25°', '26°', '25°', '25°', '24°', '26°', '25°']\n",
      "Temp Max:  ['29°', '29°', '28°', '28°', '28°', '29°', '29°']\n"
     ]
    }
   ],
   "source": [
    "# temperature min\n",
    "temp_min = [item.get_text() for item in block.find_all(class_=\"minima changeUnitT\")]\n",
    "print(\"Temp Min : \", temp_min)\n",
    "\n",
    "# temperature max\n",
    "temp_max = [item.get_text() for item in block.find_all(class_=\"maxima changeUnitT\")]\n",
    "print(\"Temp Max: \",temp_max)"
   ]
  },
  {
   "cell_type": "markdown",
   "id": "21c510df",
   "metadata": {},
   "source": [
    "### Affichage du resultat avec Pandas"
   ]
  },
  {
   "cell_type": "code",
   "execution_count": 160,
   "id": "6a3d9292",
   "metadata": {},
   "outputs": [],
   "source": [
    "import pandas as pd\n",
    "\n",
    "weather_weeks = pd.DataFrame({\n",
    "    'periods':periods,\n",
    "    'desc':desc,\n",
    "    'temp min':temp_min,\n",
    "    'temp max':temp_max\n",
    "})"
   ]
  },
  {
   "cell_type": "code",
   "execution_count": 161,
   "id": "97860a6f",
   "metadata": {},
   "outputs": [
    {
     "data": {
      "text/html": [
       "<div>\n",
       "<style scoped>\n",
       "    .dataframe tbody tr th:only-of-type {\n",
       "        vertical-align: middle;\n",
       "    }\n",
       "\n",
       "    .dataframe tbody tr th {\n",
       "        vertical-align: top;\n",
       "    }\n",
       "\n",
       "    .dataframe thead th {\n",
       "        text-align: right;\n",
       "    }\n",
       "</style>\n",
       "<table border=\"1\" class=\"dataframe\">\n",
       "  <thead>\n",
       "    <tr style=\"text-align: right;\">\n",
       "      <th></th>\n",
       "      <th>periods</th>\n",
       "      <th>desc</th>\n",
       "      <th>temp min</th>\n",
       "      <th>temp max</th>\n",
       "    </tr>\n",
       "  </thead>\n",
       "  <tbody>\n",
       "    <tr>\n",
       "      <th>0</th>\n",
       "      <td>Aujourd´hui 26 Avr</td>\n",
       "      <td>Ciel nuageux avec pluies faibles</td>\n",
       "      <td>25°</td>\n",
       "      <td>29°</td>\n",
       "    </tr>\n",
       "    <tr>\n",
       "      <th>1</th>\n",
       "      <td>Demain 27 Avr</td>\n",
       "      <td>Ciel nuageux avec averses orageuses</td>\n",
       "      <td>26°</td>\n",
       "      <td>29°</td>\n",
       "    </tr>\n",
       "    <tr>\n",
       "      <th>2</th>\n",
       "      <td>Jeudi 28 Avr</td>\n",
       "      <td>Ciel nuageux avec averses orageuses</td>\n",
       "      <td>25°</td>\n",
       "      <td>28°</td>\n",
       "    </tr>\n",
       "    <tr>\n",
       "      <th>3</th>\n",
       "      <td>Vendredi 29 Avr</td>\n",
       "      <td>Ciel nuageux avec pluies modérées</td>\n",
       "      <td>25°</td>\n",
       "      <td>28°</td>\n",
       "    </tr>\n",
       "    <tr>\n",
       "      <th>4</th>\n",
       "      <td>Samedi 30 Avr</td>\n",
       "      <td>Intervalles nuageux avec pluies faibles</td>\n",
       "      <td>24°</td>\n",
       "      <td>28°</td>\n",
       "    </tr>\n",
       "    <tr>\n",
       "      <th>5</th>\n",
       "      <td>Dimanche 1 Mai</td>\n",
       "      <td>Ciel nuageux avec pluies faibles</td>\n",
       "      <td>26°</td>\n",
       "      <td>29°</td>\n",
       "    </tr>\n",
       "    <tr>\n",
       "      <th>6</th>\n",
       "      <td>Lundi 2 Mai</td>\n",
       "      <td>Intervalles nuageux avec pluies faibles</td>\n",
       "      <td>25°</td>\n",
       "      <td>29°</td>\n",
       "    </tr>\n",
       "  </tbody>\n",
       "</table>\n",
       "</div>"
      ],
      "text/plain": [
       "              periods                                     desc temp min  \\\n",
       "0  Aujourd´hui 26 Avr         Ciel nuageux avec pluies faibles      25°   \n",
       "1       Demain 27 Avr      Ciel nuageux avec averses orageuses      26°   \n",
       "2        Jeudi 28 Avr      Ciel nuageux avec averses orageuses      25°   \n",
       "3     Vendredi 29 Avr        Ciel nuageux avec pluies modérées      25°   \n",
       "4       Samedi 30 Avr  Intervalles nuageux avec pluies faibles      24°   \n",
       "5      Dimanche 1 Mai         Ciel nuageux avec pluies faibles      26°   \n",
       "6         Lundi 2 Mai  Intervalles nuageux avec pluies faibles      25°   \n",
       "\n",
       "  temp max  \n",
       "0      29°  \n",
       "1      29°  \n",
       "2      28°  \n",
       "3      28°  \n",
       "4      28°  \n",
       "5      29°  \n",
       "6      29°  "
      ]
     },
     "execution_count": 161,
     "metadata": {},
     "output_type": "execute_result"
    }
   ],
   "source": [
    "weather_weeks"
   ]
  },
  {
   "cell_type": "code",
   "execution_count": null,
   "id": "16a93895",
   "metadata": {},
   "outputs": [],
   "source": []
  }
 ],
 "metadata": {
  "kernelspec": {
   "display_name": "Python 3 (ipykernel)",
   "language": "python",
   "name": "python3"
  },
  "language_info": {
   "codemirror_mode": {
    "name": "ipython",
    "version": 3
   },
   "file_extension": ".py",
   "mimetype": "text/x-python",
   "name": "python",
   "nbconvert_exporter": "python",
   "pygments_lexer": "ipython3",
   "version": "3.8.12"
  }
 },
 "nbformat": 4,
 "nbformat_minor": 5
}
